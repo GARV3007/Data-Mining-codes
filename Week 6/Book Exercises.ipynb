{
 "cells": [
  {
   "cell_type": "code",
   "execution_count": 1,
   "metadata": {},
   "outputs": [],
   "source": [
    "# Import important libraries\n",
    "\n",
    "import numpy as np"
   ]
  },
  {
   "cell_type": "markdown",
   "metadata": {},
   "source": [
    "#### Exercise: 12.2.1 (c)"
   ]
  },
  {
   "cell_type": "code",
   "execution_count": 2,
   "metadata": {},
   "outputs": [
    {
     "data": {
      "text/plain": [
       "{'a': (1, 1, 0, 1, 1, -1, 1),\n",
       " 'b': (0, 0, 1, 1, 1, -1, -1),\n",
       " 'c': (0, 1, 1, 0, 0, -1, 1),\n",
       " 'd': (1, 0, 0, 1, 0, -1, -1),\n",
       " 'e': (1, 0, 1, 0, 1, -1, 1),\n",
       " 'f': (1, 0, 1, 1, 0, -1, -1)}"
      ]
     },
     "execution_count": 2,
     "metadata": {},
     "output_type": "execute_result"
    }
   ],
   "source": [
    "dict1 = {'a':(1, 1, 0, 1, 1, -1, +1), 'b':(0, 0, 1, 1, 1, -1, -1), 'c':(0, 1, 1, 0, 0, -1, +1), 'd':(1, 0, 0, 1, 0, -1, -1), \n",
    "        'e':(1, 0, 1, 0, 1, -1, +1), 'f':(1, 0, 1, 1, 0, -1, -1)}\n",
    "dict1"
   ]
  },
  {
   "cell_type": "code",
   "execution_count": 3,
   "metadata": {},
   "outputs": [
    {
     "data": {
      "text/plain": [
       "array([[ 1,  1,  0,  1,  1, -1,  1],\n",
       "       [ 0,  0,  1,  1,  1, -1, -1],\n",
       "       [ 0,  1,  1,  0,  0, -1,  1],\n",
       "       [ 1,  0,  0,  1,  0, -1, -1],\n",
       "       [ 1,  0,  1,  0,  1, -1,  1],\n",
       "       [ 1,  0,  1,  1,  0, -1, -1]])"
      ]
     },
     "execution_count": 3,
     "metadata": {},
     "output_type": "execute_result"
    }
   ],
   "source": [
    "# Convert to Matrix\n",
    "names = ['a', 'b', 'c', 'd', 'e', 'f']\n",
    "\n",
    "dataMatrix = np.array([dict1[i] for i in names])\n",
    "dataMatrix"
   ]
  },
  {
   "cell_type": "code",
   "execution_count": 4,
   "metadata": {},
   "outputs": [
    {
     "name": "stdout",
     "output_type": "stream",
     "text": [
      "----------\n",
      "old [0, 0, 0, 0, 0, 0]\n",
      "i =  0 w =  0\n",
      "new [ 0.5  0.5  0.   0.5  0.5 -0.5]\n",
      "----------\n",
      "old [ 0.5  0.5  0.   0.5  0.5 -0.5]\n",
      "i =  1 w =  1.5\n",
      "Incorrect\n",
      "new [ 0.5  0.5 -0.5  0.   0.   0. ]\n",
      "----------\n",
      "old [ 0.5  0.5 -0.5  0.   0.   0. ]\n",
      "i =  2 w =  0.0\n",
      "new [ 0.5  1.   0.   0.   0.  -0.5]\n",
      "----------\n",
      "old [ 0.5  1.   0.   0.   0.  -0.5]\n",
      "i =  3 w =  1.0\n",
      "Incorrect\n",
      "new [ 0.   1.   0.  -0.5  0.   0. ]\n",
      "----------\n",
      "old [ 0.   1.   0.  -0.5  0.   0. ]\n",
      "i =  4 w =  0.0\n",
      "new [ 0.5  1.   0.5 -0.5  0.5 -0.5]\n",
      "----------\n",
      "old [ 0.5  1.   0.5 -0.5  0.5 -0.5]\n",
      "i =  5 w =  1.0\n",
      "Incorrect\n",
      "new [ 0.   1.   0.  -1.   0.5  0. ]\n"
     ]
    }
   ],
   "source": [
    "# Basic Method with variable threshold\n",
    "\n",
    "l_rate = 0.5\n",
    "w_matrix = [0, 0, 0, 0, 0, 0]\n",
    "for i in range(len(dataMatrix)):\n",
    "    print('----------')\n",
    "    print('old', w_matrix)\n",
    "    w = np.sum(w_matrix*dataMatrix[i][:-1])\n",
    "    print('i = ', i, 'w = ', w)\n",
    "    if w == 0:\n",
    "        w_matrix = w_matrix + l_rate*dataMatrix[i][-1]*dataMatrix[i][:-1]\n",
    "    elif w > 0 and dataMatrix[i][-1] == -1:\n",
    "        print('Incorrect') \n",
    "        w_matrix = w_matrix + l_rate*dataMatrix[i][-1]*dataMatrix[i][:-1]\n",
    "    elif w < 0 and dataMatrix[i][-1] == +1:\n",
    "        print('Correct')\n",
    "    print('new', w_matrix)"
   ]
  },
  {
   "cell_type": "markdown",
   "metadata": {},
   "source": [
    "#### Exercise 12.2.1 (d)\n",
    "##### Not finished"
   ]
  },
  {
   "cell_type": "code",
   "execution_count": 5,
   "metadata": {},
   "outputs": [
    {
     "data": {
      "text/plain": [
       "array([[ 1,  1,  0,  1,  1, -1,  1],\n",
       "       [ 0,  0,  1,  1,  1, -1, -1],\n",
       "       [ 0,  1,  1,  0,  0, -1,  1],\n",
       "       [ 1,  0,  0,  1,  0, -1, -1],\n",
       "       [ 1,  0,  1,  0,  1, -1,  1],\n",
       "       [ 1,  0,  1,  1,  0, -1, -1]])"
      ]
     },
     "execution_count": 5,
     "metadata": {},
     "output_type": "execute_result"
    }
   ],
   "source": [
    "# Winnow Method\n",
    "\n",
    "dataMatrix"
   ]
  },
  {
   "cell_type": "code",
   "execution_count": 6,
   "metadata": {},
   "outputs": [],
   "source": [
    "def cal_w(w, X, act):\n",
    "    j = 0\n",
    "    if act == 'promote':\n",
    "        for b in X:\n",
    "            if b == 1:\n",
    "                w[j] = w[j]*2\n",
    "            j += 1\n",
    "        # return [w[j]*2 for b in X if b == 1]\n",
    "    elif act == 'demote':\n",
    "        for b in X:\n",
    "            if b == 1:\n",
    "                w[j] = w[j]/2\n",
    "            j += 1\n",
    "        #return [w[j]/2 for b in X if b == 1]\n",
    "        \n",
    "    return w"
   ]
  },
  {
   "cell_type": "code",
   "execution_count": 7,
   "metadata": {},
   "outputs": [
    {
     "name": "stdout",
     "output_type": "stream",
     "text": [
      "b= 0\n",
      "----------\n",
      "old [1, 1, 1, 1, 1, 1]\n",
      "3\n",
      "0 [1, 1, 1, 1, 1, 1]\n",
      "<class 'list'>\n",
      "----------\n",
      "old [1, 1, 1, 1, 1, 1]\n",
      "2\n",
      "[0 0 1 1 1]\n",
      "1 [1, 1, 0.5, 0.5, 0.5, 2]\n",
      "<class 'list'>\n",
      "----------\n",
      "old [1, 1, 0.5, 0.5, 0.5, 2]\n",
      "-0.5\n",
      "2 [1, 2, 1.0, 0.5, 0.5, 1.0]\n",
      "<class 'list'>\n",
      "----------\n",
      "old [1, 2, 1.0, 0.5, 0.5, 1.0]\n",
      "0.5\n",
      "[1 0 0 1 0]\n",
      "3 [0.5, 2, 1.0, 0.25, 0.5, 2.0]\n",
      "<class 'list'>\n",
      "----------\n",
      "old [0.5, 2, 1.0, 0.25, 0.5, 2.0]\n",
      "0.0\n",
      "4 [1.0, 2, 2.0, 0.25, 1.0, 1.0]\n",
      "<class 'list'>\n",
      "----------\n",
      "old [1.0, 2, 2.0, 0.25, 1.0, 1.0]\n",
      "2.25\n",
      "[1 0 1 1 0]\n",
      "5 [0.5, 2, 1.0, 0.125, 1.0, 2.0]\n",
      "<class 'list'>\n",
      "b= 1\n",
      "----------\n",
      "old [0.5, 2, 1.0, 0.125, 1.0, 2.0]\n",
      "1.625\n",
      "0 [0.5, 2, 1.0, 0.125, 1.0, 2.0]\n",
      "<class 'list'>\n",
      "----------\n",
      "old [0.5, 2, 1.0, 0.125, 1.0, 2.0]\n",
      "0.125\n",
      "[0 0 1 1 1]\n",
      "1 [0.5, 2, 0.5, 0.0625, 0.5, 4.0]\n",
      "<class 'list'>\n",
      "----------\n",
      "old [0.5, 2, 0.5, 0.0625, 0.5, 4.0]\n",
      "-1.5\n",
      "2 [0.5, 4, 1.0, 0.0625, 0.5, 2.0]\n",
      "<class 'list'>\n",
      "----------\n",
      "old [0.5, 4, 1.0, 0.0625, 0.5, 2.0]\n",
      "-1.4375\n",
      "3 [0.5, 4, 1.0, 0.0625, 0.5, 2.0]\n",
      "<class 'list'>\n",
      "----------\n",
      "old [0.5, 4, 1.0, 0.0625, 0.5, 2.0]\n",
      "0.0\n",
      "4 [1.0, 4, 2.0, 0.0625, 1.0, 1.0]\n",
      "<class 'list'>\n",
      "----------\n",
      "old [1.0, 4, 2.0, 0.0625, 1.0, 1.0]\n",
      "2.0625\n",
      "[1 0 1 1 0]\n",
      "5 [0.5, 4, 1.0, 0.03125, 1.0, 2.0]\n",
      "<class 'list'>\n",
      "b= 2\n",
      "----------\n",
      "old [0.5, 4, 1.0, 0.03125, 1.0, 2.0]\n",
      "3.53125\n",
      "0 [0.5, 4, 1.0, 0.03125, 1.0, 2.0]\n",
      "<class 'list'>\n",
      "----------\n",
      "old [0.5, 4, 1.0, 0.03125, 1.0, 2.0]\n",
      "0.03125\n",
      "[0 0 1 1 1]\n",
      "1 [0.5, 4, 0.5, 0.015625, 0.5, 4.0]\n",
      "<class 'list'>\n",
      "----------\n",
      "old [0.5, 4, 0.5, 0.015625, 0.5, 4.0]\n",
      "0.5\n",
      "2 [0.5, 4, 0.5, 0.015625, 0.5, 4.0]\n",
      "<class 'list'>\n",
      "----------\n",
      "old [0.5, 4, 0.5, 0.015625, 0.5, 4.0]\n",
      "-3.484375\n",
      "3 [0.5, 4, 0.5, 0.015625, 0.5, 4.0]\n",
      "<class 'list'>\n",
      "----------\n",
      "old [0.5, 4, 0.5, 0.015625, 0.5, 4.0]\n",
      "-2.5\n",
      "4 [1.0, 4, 1.0, 0.015625, 1.0, 2.0]\n",
      "<class 'list'>\n",
      "----------\n",
      "old [1.0, 4, 1.0, 0.015625, 1.0, 2.0]\n",
      "0.015625\n",
      "[1 0 1 1 0]\n",
      "5 [0.5, 4, 0.5, 0.0078125, 1.0, 4.0]\n",
      "<class 'list'>\n",
      "b= 3\n",
      "----------\n",
      "old [0.5, 4, 0.5, 0.0078125, 1.0, 4.0]\n",
      "1.5078125\n",
      "0 [0.5, 4, 0.5, 0.0078125, 1.0, 4.0]\n",
      "<class 'list'>\n",
      "----------\n",
      "old [0.5, 4, 0.5, 0.0078125, 1.0, 4.0]\n",
      "-2.4921875\n",
      "1 [0.5, 4, 0.5, 0.0078125, 1.0, 4.0]\n",
      "<class 'list'>\n",
      "----------\n",
      "old [0.5, 4, 0.5, 0.0078125, 1.0, 4.0]\n",
      "0.5\n",
      "2 [0.5, 4, 0.5, 0.0078125, 1.0, 4.0]\n",
      "<class 'list'>\n",
      "----------\n",
      "old [0.5, 4, 0.5, 0.0078125, 1.0, 4.0]\n",
      "-3.4921875\n",
      "3 [0.5, 4, 0.5, 0.0078125, 1.0, 4.0]\n",
      "<class 'list'>\n",
      "----------\n",
      "old [0.5, 4, 0.5, 0.0078125, 1.0, 4.0]\n",
      "-2.0\n",
      "4 [1.0, 4, 1.0, 0.0078125, 2.0, 2.0]\n",
      "<class 'list'>\n",
      "----------\n",
      "old [1.0, 4, 1.0, 0.0078125, 2.0, 2.0]\n",
      "0.0078125\n",
      "[1 0 1 1 0]\n",
      "5 [0.5, 4, 0.5, 0.00390625, 2.0, 4.0]\n",
      "<class 'list'>\n",
      "b= 4\n",
      "----------\n",
      "old [0.5, 4, 0.5, 0.00390625, 2.0, 4.0]\n",
      "2.50390625\n",
      "0 [0.5, 4, 0.5, 0.00390625, 2.0, 4.0]\n",
      "<class 'list'>\n",
      "----------\n",
      "old [0.5, 4, 0.5, 0.00390625, 2.0, 4.0]\n",
      "-1.49609375\n",
      "1 [0.5, 4, 0.5, 0.00390625, 2.0, 4.0]\n",
      "<class 'list'>\n",
      "----------\n",
      "old [0.5, 4, 0.5, 0.00390625, 2.0, 4.0]\n",
      "0.5\n",
      "2 [0.5, 4, 0.5, 0.00390625, 2.0, 4.0]\n",
      "<class 'list'>\n",
      "----------\n",
      "old [0.5, 4, 0.5, 0.00390625, 2.0, 4.0]\n",
      "-3.49609375\n",
      "3 [0.5, 4, 0.5, 0.00390625, 2.0, 4.0]\n",
      "<class 'list'>\n",
      "----------\n",
      "old [0.5, 4, 0.5, 0.00390625, 2.0, 4.0]\n",
      "-1.0\n",
      "4 [1.0, 4, 1.0, 0.00390625, 4.0, 2.0]\n",
      "<class 'list'>\n",
      "----------\n",
      "old [1.0, 4, 1.0, 0.00390625, 4.0, 2.0]\n",
      "0.00390625\n",
      "[1 0 1 1 0]\n",
      "5 [0.5, 4, 0.5, 0.001953125, 4.0, 4.0]\n",
      "<class 'list'>\n",
      "b= 5\n",
      "----------\n",
      "old [0.5, 4, 0.5, 0.001953125, 4.0, 4.0]\n",
      "4.501953125\n",
      "0 [0.5, 4, 0.5, 0.001953125, 4.0, 4.0]\n",
      "<class 'list'>\n",
      "----------\n",
      "old [0.5, 4, 0.5, 0.001953125, 4.0, 4.0]\n",
      "0.501953125\n",
      "[0 0 1 1 1]\n",
      "1 [0.5, 4, 0.25, 0.0009765625, 2.0, 8.0]\n",
      "<class 'list'>\n",
      "----------\n",
      "old [0.5, 4, 0.25, 0.0009765625, 2.0, 8.0]\n",
      "-3.75\n",
      "2 [0.5, 8, 0.5, 0.0009765625, 2.0, 4.0]\n",
      "<class 'list'>\n",
      "----------\n",
      "old [0.5, 8, 0.5, 0.0009765625, 2.0, 4.0]\n",
      "-3.4990234375\n",
      "3 [0.5, 8, 0.5, 0.0009765625, 2.0, 4.0]\n",
      "<class 'list'>\n",
      "----------\n",
      "old [0.5, 8, 0.5, 0.0009765625, 2.0, 4.0]\n",
      "-1.0\n",
      "4 [1.0, 8, 1.0, 0.0009765625, 4.0, 2.0]\n",
      "<class 'list'>\n",
      "----------\n",
      "old [1.0, 8, 1.0, 0.0009765625, 4.0, 2.0]\n",
      "0.0009765625\n",
      "[1 0 1 1 0]\n",
      "5 [0.5, 8, 0.5, 0.00048828125, 4.0, 4.0]\n",
      "<class 'list'>\n",
      "b= 6\n",
      "----------\n",
      "old [0.5, 8, 0.5, 0.00048828125, 4.0, 4.0]\n",
      "8.50048828125\n",
      "0 [0.5, 8, 0.5, 0.00048828125, 4.0, 4.0]\n",
      "<class 'list'>\n",
      "----------\n",
      "old [0.5, 8, 0.5, 0.00048828125, 4.0, 4.0]\n",
      "0.50048828125\n",
      "[0 0 1 1 1]\n",
      "1 [0.5, 8, 0.25, 0.000244140625, 2.0, 8.0]\n",
      "<class 'list'>\n",
      "----------\n",
      "old [0.5, 8, 0.25, 0.000244140625, 2.0, 8.0]\n",
      "0.25\n",
      "2 [0.5, 8, 0.25, 0.000244140625, 2.0, 8.0]\n",
      "<class 'list'>\n",
      "----------\n",
      "old [0.5, 8, 0.25, 0.000244140625, 2.0, 8.0]\n",
      "-7.499755859375\n",
      "3 [0.5, 8, 0.25, 0.000244140625, 2.0, 8.0]\n",
      "<class 'list'>\n",
      "----------\n",
      "old [0.5, 8, 0.25, 0.000244140625, 2.0, 8.0]\n",
      "-5.25\n",
      "4 [1.0, 8, 0.5, 0.000244140625, 4.0, 4.0]\n",
      "<class 'list'>\n",
      "----------\n",
      "old [1.0, 8, 0.5, 0.000244140625, 4.0, 4.0]\n",
      "-2.499755859375\n",
      "5 [1.0, 8, 0.5, 0.000244140625, 4.0, 4.0]\n",
      "<class 'list'>\n"
     ]
    }
   ],
   "source": [
    "# initialize w\n",
    "w = [1, 1, 1, 1, 1, 1]\n",
    "b = 0\n",
    "z = 0\n",
    "while b < 7:\n",
    "    print('b=', b)\n",
    "    for i in range(len(dataMatrix)):\n",
    "        print('----------')\n",
    "        wold = w\n",
    "        print('old', wold)\n",
    "        wi = sum(w*dataMatrix[i][:-1])\n",
    "        print(wi)\n",
    "        if wi > 0 and dataMatrix[i][-1] == -1:\n",
    "            print(dataMatrix[i][:-2])\n",
    "            w = cal_w(w, dataMatrix[i][:-2], act='demote' )\n",
    "            w[-1] = w[-1]*2\n",
    "        elif (wi < 0 and dataMatrix[i][-1] == 1) or wi == 0:\n",
    "            w = cal_w(w, dataMatrix[i][:-2], act='promote' )\n",
    "            w[-1] = w[-1]/2\n",
    "        #elif abs(wi) < 0.001:\n",
    "        #    z = 1\n",
    "        \n",
    "        print(i, w)\n",
    "        print(type(w))\n",
    "    \n",
    "    #if z == 1:\n",
    "    #    break\n",
    "    b += 1"
   ]
  },
  {
   "cell_type": "markdown",
   "metadata": {},
   "source": [
    "#### Exercise 12.3.2 (a)"
   ]
  },
  {
   "cell_type": "markdown",
   "metadata": {},
   "source": [
    "Support vectors are those points which lies closest to decision surface or we can say the hyperplane which separates the two classes\n",
    "\n",
    "In 3 dimensional space, the equation of hyperplane which separates positive and negative example will be x + y + z = 10\n",
    "\n",
    "Here its just sufficient to find nearest point based on value of |x+y+z-10|"
   ]
  },
  {
   "cell_type": "code",
   "execution_count": 8,
   "metadata": {},
   "outputs": [
    {
     "data": {
      "text/plain": [
       "array([[(3, 4, 5), 1],\n",
       "       [(2, 7, 2), 1],\n",
       "       [(5, 5, 5), 1],\n",
       "       [(1, 2, 3), -1],\n",
       "       [(3, 3, 2), -1],\n",
       "       [(2, 4, 1), -1]], dtype=object)"
      ]
     },
     "execution_count": 8,
     "metadata": {},
     "output_type": "execute_result"
    }
   ],
   "source": [
    "dict1 = {'a':((3, 4, 5), +1), 'b':((2, 7, 2), +1), 'c':((5, 5, 5), +1), 'd':((1, 2, 3), -1), 'e':((3, 3, 2), -1), \n",
    "         'f':((2, 4, 1), -1)}\n",
    "\n",
    "# Convert to matrix\n",
    "names = ['a', 'b', 'c', 'd', 'e', 'f']\n",
    "dataMatrix = np.array([dict1[i] for i in names])\n",
    "dataMatrix"
   ]
  },
  {
   "cell_type": "code",
   "execution_count": 9,
   "metadata": {},
   "outputs": [
    {
     "name": "stdout",
     "output_type": "stream",
     "text": [
      "In positive side  (2, 7, 2) is the support vector. Distance from hyperplane =  1\n",
      "In negative side  (3, 3, 2) is the support vector. Distance from hyperplane =  2\n"
     ]
    }
   ],
   "source": [
    "pmin = 10\n",
    "nmin = 10\n",
    "p = 0\n",
    "n = 0\n",
    "for i in range(len(dataMatrix)):\n",
    "    dist = abs(sum(dataMatrix[i][0])-10)\n",
    "    if dataMatrix[i][1] == 1:\n",
    "        if dist < pmin:\n",
    "            pmin = dist\n",
    "            p = i\n",
    "    if dataMatrix[i][1] == -1:\n",
    "        if dist < nmin:\n",
    "            nmin = dist\n",
    "            n = i\n",
    "\n",
    "print('In positive side ', dataMatrix[p][0], 'is the support vector. Distance from hyperplane = ', pmin)\n",
    "print('In negative side ', dataMatrix[n][0], 'is the support vector. Distance from hyperplane = ', nmin)"
   ]
  },
  {
   "cell_type": "code",
   "execution_count": null,
   "metadata": {},
   "outputs": [],
   "source": []
  }
 ],
 "metadata": {
  "kernelspec": {
   "display_name": "Python 3",
   "language": "python",
   "name": "python3"
  },
  "language_info": {
   "codemirror_mode": {
    "name": "ipython",
    "version": 3
   },
   "file_extension": ".py",
   "mimetype": "text/x-python",
   "name": "python",
   "nbconvert_exporter": "python",
   "pygments_lexer": "ipython3",
   "version": "3.7.4"
  }
 },
 "nbformat": 4,
 "nbformat_minor": 2
}
