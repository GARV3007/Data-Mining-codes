{
 "cells": [
  {
   "cell_type": "markdown",
   "metadata": {},
   "source": [
    "Gourav Verma<br>\n",
    "DSC550 - Data Mining<br>\n",
    "Summer-2020<br>\n",
    "Week-8 : Assignment- 11.3.2 - SVD<br>\n",
    "Book-Mining of Massive Datasets"
   ]
  },
  {
   "cell_type": "code",
   "execution_count": 1,
   "metadata": {},
   "outputs": [],
   "source": [
    "# Import important libraries\n",
    "import numpy as np\n",
    "from scipy.linalg import svd"
   ]
  },
  {
   "cell_type": "markdown",
   "metadata": {},
   "source": [
    "Use the SVD from Fig. 11.7. Suppose Leslie assigns rating 3 to Alien and rating 4 to Titanic, giving us a representation of leslie in “moviespace” of [0, 3, 0, 0, 4]. Find the representation of Leslie in concept space. What does that representation predict about how well Leslie would like the other movies appearing in our example data?"
   ]
  },
  {
   "cell_type": "code",
   "execution_count": 2,
   "metadata": {},
   "outputs": [
    {
     "name": "stdout",
     "output_type": "stream",
     "text": [
      "Matrix -\n",
      " [[1 1 1 0 0]\n",
      " [3 3 3 0 0]\n",
      " [4 4 4 0 0]\n",
      " [5 5 5 0 0]\n",
      " [0 0 0 4 4]\n",
      " [0 0 0 5 5]\n",
      " [0 0 0 2 2]]\n",
      "U -\n",
      " [[0.14 0.  ]\n",
      " [0.42 0.  ]\n",
      " [0.56 0.  ]\n",
      " [0.7  0.  ]\n",
      " [0.   0.6 ]\n",
      " [0.   0.75]\n",
      " [0.   0.3 ]]\n",
      "Sum -\n",
      " [[12.4  0. ]\n",
      " [ 0.   9.5]]\n",
      "V -\n",
      " [[0.58 0.58 0.58 0.   0.  ]\n",
      " [0.   0.   0.   0.71 0.71]]\n"
     ]
    }
   ],
   "source": [
    "# Given data\n",
    "Matrix = np.array([[1,1,1,0,0],[3,3,3,0,0],[4,4,4,0,0],[5,5,5,0,0],[0,0,0,4,4],[0,0,0,5,5],[0,0,0,2,2]])\n",
    "print('Matrix -\\n', Matrix)\n",
    "\n",
    "U = np.array([[.14,0],[.42,0],[.56,0],[.70,0],[0,.60],[0,.75],[0,.30]])\n",
    "print('U -\\n', U)\n",
    "\n",
    "summ = np.array([[12.4,0],[0,9.5]])\n",
    "print('Sum -\\n', summ)\n",
    "\n",
    "V = np.array([[.58,.58,.58,0,0],[0,0,0,.71,.71]])\n",
    "print('V -\\n', V)"
   ]
  },
  {
   "cell_type": "code",
   "execution_count": 3,
   "metadata": {},
   "outputs": [],
   "source": [
    "# Representation for Leslie\n",
    "leslie = np.array([0,3,0,0,4])"
   ]
  },
  {
   "cell_type": "code",
   "execution_count": 4,
   "metadata": {},
   "outputs": [
    {
     "data": {
      "text/plain": [
       "array([1.74, 2.84])"
      ]
     },
     "execution_count": 4,
     "metadata": {},
     "output_type": "execute_result"
    }
   ],
   "source": [
    "# Get concept space for Leslie \n",
    "cs = np.dot(leslie, V.T)\n",
    "cs"
   ]
  },
  {
   "cell_type": "code",
   "execution_count": 5,
   "metadata": {},
   "outputs": [
    {
     "data": {
      "text/plain": [
       "array([1.0092, 1.0092, 1.0092, 2.0164, 2.0164])"
      ]
     },
     "execution_count": 5,
     "metadata": {},
     "output_type": "execute_result"
    }
   ],
   "source": [
    "# Get moview ratings for Leslie\n",
    "np.dot(cs, V)"
   ]
  },
  {
   "cell_type": "markdown",
   "metadata": {},
   "source": [
    "As per the movie data Leslie likes Titanic and Casablanca more than the other movies."
   ]
  },
  {
   "cell_type": "code",
   "execution_count": null,
   "metadata": {},
   "outputs": [],
   "source": []
  }
 ],
 "metadata": {
  "kernelspec": {
   "display_name": "Python 3",
   "language": "python",
   "name": "python3"
  },
  "language_info": {
   "codemirror_mode": {
    "name": "ipython",
    "version": 3
   },
   "file_extension": ".py",
   "mimetype": "text/x-python",
   "name": "python",
   "nbconvert_exporter": "python",
   "pygments_lexer": "ipython3",
   "version": "3.7.4"
  }
 },
 "nbformat": 4,
 "nbformat_minor": 2
}
