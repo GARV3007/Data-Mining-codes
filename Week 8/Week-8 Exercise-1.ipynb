{
 "cells": [
  {
   "cell_type": "markdown",
   "metadata": {},
   "source": [
    "Gourav Verma<br>\n",
    "DSC550 - Data Mining<br>\n",
    "Summer-2020<br>\n",
    "Week-8 : Exercise 8.1 - Dimensionality Reduction<br>\n",
    "Books-Mining of Massive Datasets<br>"
   ]
  },
  {
   "cell_type": "code",
   "execution_count": 93,
   "metadata": {},
   "outputs": [],
   "source": [
    "# Import importatant libraries\n",
    "import numpy as np\n",
    "import pandas as pd\n",
    "from sklearn.metrics.pairwise import cosine_similarity\n",
    "from scipy import sparse\n",
    "import scipy.linalg as la"
   ]
  },
  {
   "cell_type": "markdown",
   "metadata": {},
   "source": [
    "### Part A"
   ]
  },
  {
   "cell_type": "code",
   "execution_count": 94,
   "metadata": {},
   "outputs": [
    {
     "data": {
      "text/html": [
       "<div>\n",
       "<style scoped>\n",
       "    .dataframe tbody tr th:only-of-type {\n",
       "        vertical-align: middle;\n",
       "    }\n",
       "\n",
       "    .dataframe tbody tr th {\n",
       "        vertical-align: top;\n",
       "    }\n",
       "\n",
       "    .dataframe thead th {\n",
       "        text-align: right;\n",
       "    }\n",
       "</style>\n",
       "<table border=\"1\" class=\"dataframe\">\n",
       "  <thead>\n",
       "    <tr style=\"text-align: right;\">\n",
       "      <th></th>\n",
       "      <th>M</th>\n",
       "      <th>N</th>\n",
       "      <th>P</th>\n",
       "      <th>Q</th>\n",
       "      <th>R</th>\n",
       "    </tr>\n",
       "  </thead>\n",
       "  <tbody>\n",
       "    <tr>\n",
       "      <th>A</th>\n",
       "      <td>1</td>\n",
       "      <td>2</td>\n",
       "      <td>3</td>\n",
       "      <td>4</td>\n",
       "      <td>5</td>\n",
       "    </tr>\n",
       "    <tr>\n",
       "      <th>B</th>\n",
       "      <td>2</td>\n",
       "      <td>3</td>\n",
       "      <td>2</td>\n",
       "      <td>5</td>\n",
       "      <td>3</td>\n",
       "    </tr>\n",
       "    <tr>\n",
       "      <th>C</th>\n",
       "      <td>5</td>\n",
       "      <td>5</td>\n",
       "      <td>5</td>\n",
       "      <td>3</td>\n",
       "      <td>2</td>\n",
       "    </tr>\n",
       "  </tbody>\n",
       "</table>\n",
       "</div>"
      ],
      "text/plain": [
       "   M  N  P  Q  R\n",
       "A  1  2  3  4  5\n",
       "B  2  3  2  5  3\n",
       "C  5  5  5  3  2"
      ]
     },
     "execution_count": 94,
     "metadata": {},
     "output_type": "execute_result"
    }
   ],
   "source": [
    "df_a = pd.DataFrame(np.array([[1, 2, 3, 4, 5], [2, 3, 2, 5, 3], [5, 5, 5, 3, 2]]), columns=['M', 'N', 'P', 'Q', 'R'], \n",
    "                  index=['A', 'B', 'C'])\n",
    "df_a"
   ]
  },
  {
   "cell_type": "code",
   "execution_count": 95,
   "metadata": {},
   "outputs": [
    {
     "data": {
      "text/html": [
       "<div>\n",
       "<style scoped>\n",
       "    .dataframe tbody tr th:only-of-type {\n",
       "        vertical-align: middle;\n",
       "    }\n",
       "\n",
       "    .dataframe tbody tr th {\n",
       "        vertical-align: top;\n",
       "    }\n",
       "\n",
       "    .dataframe thead th {\n",
       "        text-align: right;\n",
       "    }\n",
       "</style>\n",
       "<table border=\"1\" class=\"dataframe\">\n",
       "  <thead>\n",
       "    <tr style=\"text-align: right;\">\n",
       "      <th></th>\n",
       "      <th>M</th>\n",
       "      <th>N</th>\n",
       "      <th>P</th>\n",
       "      <th>Q</th>\n",
       "      <th>R</th>\n",
       "    </tr>\n",
       "  </thead>\n",
       "  <tbody>\n",
       "    <tr>\n",
       "      <th>A</th>\n",
       "      <td>-1.333333</td>\n",
       "      <td>-1.0</td>\n",
       "      <td>0.0</td>\n",
       "      <td>0.333333</td>\n",
       "      <td>2.0</td>\n",
       "    </tr>\n",
       "    <tr>\n",
       "      <th>B</th>\n",
       "      <td>-0.333333</td>\n",
       "      <td>0.0</td>\n",
       "      <td>-1.0</td>\n",
       "      <td>1.333333</td>\n",
       "      <td>0.0</td>\n",
       "    </tr>\n",
       "    <tr>\n",
       "      <th>C</th>\n",
       "      <td>1.666667</td>\n",
       "      <td>1.0</td>\n",
       "      <td>1.0</td>\n",
       "      <td>-1.666667</td>\n",
       "      <td>-2.0</td>\n",
       "    </tr>\n",
       "  </tbody>\n",
       "</table>\n",
       "</div>"
      ],
      "text/plain": [
       "          M    N    P         Q    R\n",
       "A -1.333333 -1.0  0.0  0.333333  2.0\n",
       "B -0.333333  0.0 -1.0  1.333333  0.0\n",
       "C  1.666667  1.0  1.0 -1.666667 -2.0"
      ]
     },
     "execution_count": 95,
     "metadata": {},
     "output_type": "execute_result"
    }
   ],
   "source": [
    "# Substract average of each rows\n",
    "df_a = df_a.sub(df_a.mean(axis=1),axis=0)\n",
    "\n",
    "# Substract average of each column\n",
    "df_a = df_a.sub(df_a.mean(axis=0),axis=1)\n",
    "\n",
    "# Display\n",
    "df_a"
   ]
  },
  {
   "cell_type": "markdown",
   "metadata": {},
   "source": [
    "### Part B"
   ]
  },
  {
   "cell_type": "markdown",
   "metadata": {},
   "source": [
    "Cosine similarity is equal the cosine of the angle between two non-zero vectors.<br>\n",
    "We can compute pairwise cosine similarity on the rows of a sparse matrix directly using sklearn."
   ]
  },
  {
   "cell_type": "code",
   "execution_count": 96,
   "metadata": {},
   "outputs": [],
   "source": [
    "def cosine_sim(vect, alpha):\n",
    "    \"\"\"\n",
    "    Function to calculate cosine similarity\n",
    "    \"\"\"\n",
    "    for i in range(len(vect)):\n",
    "        vect[i][5] = vect[i][5]*alpha   # Change ratings by multiplying with alpha\n",
    "    \n",
    "    V_sparse = sparse.csr_matrix(vect)\n",
    "    similarities_sparse = cosine_similarity(V_sparse,dense_output=False)\n",
    "    print('pairwise cosine similarity for alpha= {}:\\n {}\\n'.format(alpha, round(similarities_sparse, 3)))\n",
    "    return\n",
    "    "
   ]
  },
  {
   "cell_type": "code",
   "execution_count": 97,
   "metadata": {},
   "outputs": [
    {
     "name": "stdout",
     "output_type": "stream",
     "text": [
      "pairwise cosine similarity for alpha= 0:\n",
      "   (0, 0)\t1.0\n",
      "  (0, 1)\t0.667\n",
      "  (1, 0)\t0.667\n",
      "  (1, 1)\t1.0\n",
      "  (1, 2)\t0.408\n",
      "  (2, 1)\t0.408\n",
      "  (2, 2)\t1.0\n",
      "\n",
      "pairwise cosine similarity for alpha= 0.5:\n",
      "   (0, 0)\t1.0\n",
      "  (0, 1)\t0.722\n",
      "  (0, 2)\t0.289\n",
      "  (1, 0)\t0.722\n",
      "  (1, 1)\t1.0\n",
      "  (1, 2)\t0.667\n",
      "  (2, 0)\t0.289\n",
      "  (2, 1)\t0.667\n",
      "  (2, 2)\t1.0\n",
      "\n",
      "pairwise cosine similarity for alpha= 1:\n",
      "   (0, 0)\t1.0\n",
      "  (0, 1)\t0.847\n",
      "  (0, 2)\t0.617\n",
      "  (1, 0)\t0.847\n",
      "  (1, 1)\t1.0\n",
      "  (1, 2)\t0.85\n",
      "  (2, 0)\t0.617\n",
      "  (2, 1)\t0.85\n",
      "  (2, 2)\t1.0\n",
      "\n",
      "pairwise cosine similarity for alpha= 2:\n",
      "   (0, 0)\t1.0\n",
      "  (0, 1)\t0.946\n",
      "  (0, 2)\t0.865\n",
      "  (1, 0)\t0.946\n",
      "  (1, 1)\t1.0\n",
      "  (1, 2)\t0.953\n",
      "  (2, 0)\t0.865\n",
      "  (2, 1)\t0.953\n",
      "  (2, 2)\t1.0\n",
      "\n"
     ]
    }
   ],
   "source": [
    "# Calculate pairwise cosine of angle for each alpha.\n",
    "for a in [0, 0.5, 1, 2]:\n",
    "    Vector = np.array([[1, 0, 1, 0, 1, 2], [1, 1, 0, 0, 1, 6], [0, 1, 0, 1, 0, 2]])\n",
    "    cosine_sim(Vector, a)"
   ]
  },
  {
   "cell_type": "markdown",
   "metadata": {},
   "source": [
    "### Part C"
   ]
  },
  {
   "cell_type": "code",
   "execution_count": 98,
   "metadata": {},
   "outputs": [
    {
     "name": "stdout",
     "output_type": "stream",
     "text": [
      "[-1.26019067  0.46501084  0.18755814]\n"
     ]
    },
    {
     "data": {
      "text/plain": [
       "0.0"
      ]
     },
     "execution_count": 98,
     "metadata": {},
     "output_type": "execute_result"
    }
   ],
   "source": [
    "v = np.array([2/7, 3/7, 6/7]) # Given matrix\n",
    "\n",
    "r = np.random.randn(3)        # Generate random matrix\n",
    "r -= r.dot(v) * v / np.linalg.norm(v)**2   # Get orthonormal matrix\n",
    "k = np.cross(v, r)            # Get cross product\n",
    "print(k)                      # Print the matrix\n",
    "\n",
    "# Validate\n",
    "np.dot(k, v)"
   ]
  },
  {
   "cell_type": "markdown",
   "metadata": {},
   "source": [
    "### Part D"
   ]
  },
  {
   "cell_type": "code",
   "execution_count": 99,
   "metadata": {},
   "outputs": [
    {
     "data": {
      "text/plain": [
       "array([[-0.77512996, -0.63180182],\n",
       "       [ 0.63180182, -0.77512996]])"
      ]
     },
     "execution_count": 99,
     "metadata": {},
     "output_type": "execute_result"
    }
   ],
   "source": [
    "p = np.array([[1,1],[2,2],[3,4]])  # Given 2d array\n",
    "q = np.dot(p.transpose(),p)        # Get dot product with transporse matrix\n",
    "eigvals, eigvecs = la.eig(q)       # Compute eigenvalue and eigenvectors\n",
    "eigvecs                            # Display eigenvectors"
   ]
  },
  {
   "cell_type": "markdown",
   "metadata": {},
   "source": [
    "### Part E"
   ]
  },
  {
   "cell_type": "code",
   "execution_count": 100,
   "metadata": {},
   "outputs": [
    {
     "data": {
      "text/plain": [
       "0"
      ]
     },
     "execution_count": 100,
     "metadata": {},
     "output_type": "execute_result"
    }
   ],
   "source": [
    "e = np.array([1, 2, 3])   # Given Matrix\n",
    "og = np.array([2, 2, -2]) # Orthogonal matrix\n",
    "\n",
    "# Validate\n",
    "np.dot(e, og)"
   ]
  },
  {
   "cell_type": "markdown",
   "metadata": {},
   "source": [
    "### Part F"
   ]
  },
  {
   "cell_type": "code",
   "execution_count": 101,
   "metadata": {},
   "outputs": [
    {
     "data": {
      "text/plain": [
       "array([[1. , 0. , 0. ],\n",
       "       [0. , 0.5, 0. ],\n",
       "       [0. , 0. , 0. ]])"
      ]
     },
     "execution_count": 101,
     "metadata": {},
     "output_type": "execute_result"
    }
   ],
   "source": [
    "X = np.array([[1, 0, 0], [0, 2, 0], [0, 0, 0]])  # Given matrix\n",
    "np.linalg.pinv(X)   # Compute the (Moore-Penrose) pseudo-inverse of the matrix."
   ]
  },
  {
   "cell_type": "code",
   "execution_count": null,
   "metadata": {},
   "outputs": [],
   "source": []
  }
 ],
 "metadata": {
  "kernelspec": {
   "display_name": "Python 3",
   "language": "python",
   "name": "python3"
  },
  "language_info": {
   "codemirror_mode": {
    "name": "ipython",
    "version": 3
   },
   "file_extension": ".py",
   "mimetype": "text/x-python",
   "name": "python",
   "nbconvert_exporter": "python",
   "pygments_lexer": "ipython3",
   "version": "3.7.4"
  }
 },
 "nbformat": 4,
 "nbformat_minor": 2
}
